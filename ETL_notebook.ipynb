{
 "cells": [
  {
   "cell_type": "code",
   "execution_count": 1,
   "id": "7cc5a5bc",
   "metadata": {},
   "outputs": [],
   "source": [
    "from pyspark.sql import SparkSession\n",
    "from pyspark.sql.functions import *"
   ]
  },
  {
   "cell_type": "code",
   "execution_count": 2,
   "id": "8f7db0da",
   "metadata": {},
   "outputs": [],
   "source": [
    "# Tạo SparkSession\n",
    "spark = SparkSession.builder \\\n",
    "    .appName(\"Mini-Project\") \\\n",
    "    .config(\"spark.jars\", \"file:///D:/OneDrive-QuangNgai/Data_Engineer/Mini-Project/sqljdbc_12.10/enu/jars/mssql-jdbc-12.10.0.jre11.jar\") \\\n",
    "    .config(\"spark.driver.extraClassPath\",\"file:///D:/OneDrive-QuangNgai/Data_Engineer/Mini-Project/sqljdbc_12.10/enu/jars/mssql-jdbc-12.10.0.jre11.jar:file:///D:/OneDrive-QuangNgai/Data_Engineer/Mini-Project/sqljdbc_12.10/enu/auth/x64/mssql-jdbc_auth-12.10.0.x64.dll\") \\\n",
    "    .getOrCreate()\n"
   ]
  },
  {
   "cell_type": "code",
   "execution_count": 3,
   "id": "2da67d9c",
   "metadata": {},
   "outputs": [],
   "source": [
    "# Đọc dữ liệu từ thư mục chứa các tệp CSV\n",
    "df = spark.read.format(\"csv\") \\\n",
    "    .option(\"header\", \"true\") \\\n",
    "    .option(\"inferSchema\", \"true\") \\\n",
    "    .load(\"mobile_app/\")\n"
   ]
  },
  {
   "cell_type": "code",
   "execution_count": 4,
   "id": "6d50a21d",
   "metadata": {},
   "outputs": [
    {
     "name": "stdout",
     "output_type": "stream",
     "text": [
      "root\n",
      " |-- Event Date: integer (nullable = true)\n",
      " |-- App Name: string (nullable = true)\n",
      " |-- App Apple ID: integer (nullable = true)\n",
      " |-- Subscription Name: string (nullable = true)\n",
      " |-- Subscription Apple ID: long (nullable = true)\n",
      " |-- Subscription Group ID: integer (nullable = true)\n",
      " |-- Standard Subscription Duration: string (nullable = true)\n",
      " |-- Subscription Offer Name: string (nullable = true)\n",
      " |-- Promotional Offer ID: string (nullable = true)\n",
      " |-- Subscription Offer Type: string (nullable = true)\n",
      " |-- Subscription Offer Duration: string (nullable = true)\n",
      " |-- Marketing Opt-In Duration: string (nullable = true)\n",
      " |-- Customer Price: double (nullable = true)\n",
      " |-- Customer Currency: string (nullable = true)\n",
      " |-- Developer Proceeds: double (nullable = true)\n",
      " |-- Proceeds Currency: string (nullable = true)\n",
      " |-- Preserved Pricing: string (nullable = true)\n",
      " |-- Proceeds Reason: string (nullable = true)\n",
      " |-- Client: string (nullable = true)\n",
      " |-- Device: string (nullable = true)\n",
      " |-- Country: string (nullable = true)\n",
      " |-- Subscriber ID: string (nullable = true)\n",
      " |-- Subscriber ID Reset: string (nullable = true)\n",
      " |-- Refund: string (nullable = true)\n",
      " |-- Purchase Date: integer (nullable = true)\n",
      " |-- Units: integer (nullable = true)\n",
      "\n"
     ]
    }
   ],
   "source": [
    "df.printSchema()"
   ]
  },
  {
   "cell_type": "code",
   "execution_count": 5,
   "id": "5d285234",
   "metadata": {},
   "outputs": [],
   "source": [
    "from pyspark.sql.types import StructType, StructField, StringType, IntegerType, DecimalType, LongType\n",
    "\n",
    "# Định nghĩa schema chính xác\n",
    "correct_schema = StructType([\n",
    "    StructField(\"Event Date\", IntegerType(), True),  \n",
    "    StructField(\"App Name\", StringType(), True),\n",
    "    StructField(\"App Apple ID\", LongType(), True),\n",
    "    StructField(\"Subscription Name\", StringType(), True),\n",
    "    StructField(\"Subscription Apple ID\", LongType(), True),\n",
    "    StructField(\"Subscription Group ID\", LongType(), True),\n",
    "    StructField(\"Standard Subscription Duration\", StringType(), True),\n",
    "    StructField(\"Subscription Offer Name\", StringType(), True),\n",
    "    StructField(\"Promotional Offer ID\", StringType(), True),\n",
    "    StructField(\"Subscription Offer Type\", StringType(), True),\n",
    "    StructField(\"Subscription Offer Duration\", StringType(), True),\n",
    "    StructField(\"Marketing Opt-In Duration\", StringType(), True),\n",
    "    StructField(\"Customer Price\", DecimalType(12, 2), True),\n",
    "    StructField(\"Customer Currency\", StringType(), True),\n",
    "    StructField(\"Developer Proceeds\", DecimalType(12, 2), True),\n",
    "    StructField(\"Proceeds Currency\", StringType(), True),\n",
    "    StructField(\"Preserved Pricing\", StringType(), True),\n",
    "    StructField(\"Proceeds Reason\", StringType(), True),\n",
    "    StructField(\"Client\", StringType(), True),\n",
    "    StructField(\"Device\", StringType(), True),\n",
    "    StructField(\"Country\", StringType(), True),\n",
    "    StructField(\"Subscriber ID\", StringType(), True), \n",
    "    StructField(\"Subscriber ID Reset\", StringType(), True),\n",
    "    StructField(\"Refund\", StringType(), True),\n",
    "    StructField(\"Purchase Date\", IntegerType(), True), \n",
    "    StructField(\"Units\", DecimalType(12, 2), True)\n",
    "])\n",
    "\n",
    "# Đọc dữ liệu với schema đã định nghĩa\n",
    "df = spark.read.format(\"csv\") \\\n",
    "    .option(\"header\", \"true\") \\\n",
    "    .schema(correct_schema) \\\n",
    "    .load(\"mobile_app/\")"
   ]
  },
  {
   "cell_type": "code",
   "execution_count": 6,
   "id": "329604d3",
   "metadata": {},
   "outputs": [
    {
     "name": "stdout",
     "output_type": "stream",
     "text": [
      "root\n",
      " |-- Event Date: integer (nullable = true)\n",
      " |-- App Name: string (nullable = true)\n",
      " |-- App Apple ID: long (nullable = true)\n",
      " |-- Subscription Name: string (nullable = true)\n",
      " |-- Subscription Apple ID: long (nullable = true)\n",
      " |-- Subscription Group ID: long (nullable = true)\n",
      " |-- Standard Subscription Duration: string (nullable = true)\n",
      " |-- Subscription Offer Name: string (nullable = true)\n",
      " |-- Promotional Offer ID: string (nullable = true)\n",
      " |-- Subscription Offer Type: string (nullable = true)\n",
      " |-- Subscription Offer Duration: string (nullable = true)\n",
      " |-- Marketing Opt-In Duration: string (nullable = true)\n",
      " |-- Customer Price: decimal(12,2) (nullable = true)\n",
      " |-- Customer Currency: string (nullable = true)\n",
      " |-- Developer Proceeds: decimal(12,2) (nullable = true)\n",
      " |-- Proceeds Currency: string (nullable = true)\n",
      " |-- Preserved Pricing: string (nullable = true)\n",
      " |-- Proceeds Reason: string (nullable = true)\n",
      " |-- Client: string (nullable = true)\n",
      " |-- Device: string (nullable = true)\n",
      " |-- Country: string (nullable = true)\n",
      " |-- Subscriber ID: string (nullable = true)\n",
      " |-- Subscriber ID Reset: string (nullable = true)\n",
      " |-- Refund: string (nullable = true)\n",
      " |-- Purchase Date: integer (nullable = true)\n",
      " |-- Units: decimal(12,2) (nullable = true)\n",
      "\n"
     ]
    }
   ],
   "source": [
    "df.printSchema()"
   ]
  },
  {
   "cell_type": "code",
   "execution_count": 7,
   "id": "cbc55652",
   "metadata": {},
   "outputs": [
    {
     "name": "stdout",
     "output_type": "stream",
     "text": [
      "+----------+------------------------------+------------+-----------------+---------------------+---------------------+------------------------------+-----------------------+--------------------+-----------------------+---------------------------+-------------------------+--------------+-----------------+------------------+-----------------+-----------------+---------------+------+------+-------+---------------+-------------------+------+-------------+-----+\n",
      "|Event Date|App Name                      |App Apple ID|Subscription Name|Subscription Apple ID|Subscription Group ID|Standard Subscription Duration|Subscription Offer Name|Promotional Offer ID|Subscription Offer Type|Subscription Offer Duration|Marketing Opt-In Duration|Customer Price|Customer Currency|Developer Proceeds|Proceeds Currency|Preserved Pricing|Proceeds Reason|Client|Device|Country|Subscriber ID  |Subscriber ID Reset|Refund|Purchase Date|Units|\n",
      "+----------+------------------------------+------------+-----------------+---------------------+---------------------+------------------------------+-----------------------+--------------------+-----------------------+---------------------------+-------------------------+--------------+-----------------+------------------+-----------------+-----------------+---------------+------+------+-------+---------------+-------------------+------+-------------+-----+\n",
      "|20240113  |Screen Mirroring SmartTV Cast.|1597094402  |Yearly           |1597465785           |20905769             |1 Year                        |NULL                   |NULL                |NULL                   |NULL                       |NULL                     |34.99         |USD              |24.50             |USD              |                 |               |      |iPhone|US     |203669720813141|NULL               |NULL  |NULL         |1.00 |\n",
      "|20240113  |Screen Mirroring SmartTV Cast.|1597094402  |Yearly           |1597465785           |20905769             |1 Year                        |NULL                   |NULL                |NULL                   |NULL                       |NULL                     |34.99         |USD              |24.50             |USD              |                 |               |      |iPhone|US     |161672738188901|NULL               |NULL  |NULL         |1.00 |\n",
      "|20240113  |Screen Mirroring SmartTV Cast.|1597094402  |Yearly           |1597465785           |20905769             |1 Year                        |NULL                   |NULL                |NULL                   |NULL                       |NULL                     |34.99         |USD              |24.50             |USD              |                 |               |      |iPhone|US     |665571175040529|NULL               |NULL  |NULL         |1.00 |\n",
      "|20240113  |Screen Mirroring SmartTV Cast.|1597094402  |Yearly sale      |1634176435           |20905769             |1 Year                        |NULL                   |NULL                |NULL                   |NULL                       |NULL                     |29.99         |USD              |21.00             |USD              |                 |               |      |iPhone|US     |469603959457992|NULL               |NULL  |NULL         |1.00 |\n",
      "|20240113  |Screen Mirroring SmartTV Cast.|1597094402  |Yearly sale      |1634176435           |20905769             |1 Year                        |NULL                   |NULL                |NULL                   |NULL                       |NULL                     |29.99         |USD              |21.00             |USD              |                 |               |      |iPhone|US     |791453860280785|NULL               |NULL  |NULL         |1.00 |\n",
      "+----------+------------------------------+------------+-----------------+---------------------+---------------------+------------------------------+-----------------------+--------------------+-----------------------+---------------------------+-------------------------+--------------+-----------------+------------------+-----------------+-----------------+---------------+------+------+-------+---------------+-------------------+------+-------------+-----+\n",
      "only showing top 5 rows\n",
      "\n"
     ]
    }
   ],
   "source": [
    "df.show(5, truncate=False)"
   ]
  },
  {
   "cell_type": "code",
   "execution_count": 8,
   "id": "9ea3e536",
   "metadata": {},
   "outputs": [
    {
     "data": {
      "text/plain": [
       "19644"
      ]
     },
     "execution_count": 8,
     "metadata": {},
     "output_type": "execute_result"
    }
   ],
   "source": [
    "df.count()"
   ]
  },
  {
   "cell_type": "code",
   "execution_count": 9,
   "id": "9945ffe6",
   "metadata": {},
   "outputs": [
    {
     "name": "stdout",
     "output_type": "stream",
     "text": [
      "+----------+-----------------------------+------------+-----------------+---------------------+---------------------+------------------------------+-----------------------+--------------------+-----------------------+---------------------------+-------------------------+--------------+-----------------+------------------+-----------------+-----------------+---------------+------+------+-------+-------------+-------------------+------+-------------+-----+-----+\n",
      "|Event Date|App Name                     |App Apple ID|Subscription Name|Subscription Apple ID|Subscription Group ID|Standard Subscription Duration|Subscription Offer Name|Promotional Offer ID|Subscription Offer Type|Subscription Offer Duration|Marketing Opt-In Duration|Customer Price|Customer Currency|Developer Proceeds|Proceeds Currency|Preserved Pricing|Proceeds Reason|Client|Device|Country|Subscriber ID|Subscriber ID Reset|Refund|Purchase Date|Units|count|\n",
      "+----------+-----------------------------+------------+-----------------+---------------------+---------------------+------------------------------+-----------------------+--------------------+-----------------------+---------------------------+-------------------------+--------------+-----------------+------------------+-----------------+-----------------+---------------+------+------+-------+-------------+-------------------+------+-------------+-----+-----+\n",
      "|NULL      |Universal TV Remote Control +|1644910903  |Weekly           |1644911334           |21017950             |NULL                          |NULL                   |NULL                |NULL                   |NULL                       |NULL                     |0.00          |USD              |0.00              |USD              |                 |               |      |iPhone|US     |             |NULL               |NULL  |NULL         |1.00 |4    |\n",
      "+----------+-----------------------------+------------+-----------------+---------------------+---------------------+------------------------------+-----------------------+--------------------+-----------------------+---------------------------+-------------------------+--------------+-----------------+------------------+-----------------+-----------------+---------------+------+------+-------+-------------+-------------------+------+-------------+-----+-----+\n",
      "\n"
     ]
    }
   ],
   "source": [
    "duplicates = df.groupBy(df.columns).count().filter(col(\"count\") > 1)\n",
    "\n",
    "# Hiển thị các bản ghi duplicate\n",
    "duplicates.show(truncate=False)"
   ]
  },
  {
   "cell_type": "code",
   "execution_count": 10,
   "id": "d2b44704",
   "metadata": {},
   "outputs": [],
   "source": [
    "# Loại bỏ các bản ghi duplicate\n",
    "df = df.dropDuplicates()"
   ]
  },
  {
   "cell_type": "code",
   "execution_count": 11,
   "id": "bcc52239",
   "metadata": {},
   "outputs": [
    {
     "data": {
      "text/plain": [
       "19641"
      ]
     },
     "execution_count": 11,
     "metadata": {},
     "output_type": "execute_result"
    }
   ],
   "source": [
    "df.count()"
   ]
  },
  {
   "cell_type": "markdown",
   "id": "3a26b0e1",
   "metadata": {},
   "source": [
    "#### Dim_Date"
   ]
  },
  {
   "cell_type": "code",
   "execution_count": 12,
   "id": "32038284",
   "metadata": {},
   "outputs": [
    {
     "name": "stdout",
     "output_type": "stream",
     "text": [
      "Min event date: 2023-09-02\n",
      "Min purchase date: 2023-05-12\n",
      "Min date (used for dimension): 2023-05-12\n",
      "Max date: 2024-01-15\n",
      "Number of dates in range: 249\n"
     ]
    }
   ],
   "source": [
    "# Tính toán min và max date trực tiếp từ DataFrame gốc\n",
    "min_event_date_df = df.select(min(to_date(col(\"Event Date\"), \"yyyyMMdd\")).alias(\"min_event_date\"))\n",
    "min_purchase_date_df = df.select(min(to_date(col(\"Purchase Date\"), \"yyyyMMdd\")).alias(\"min_purchase_date\"))\n",
    "max_date_df = df.select(max(to_date(col(\"Event Date\"), \"yyyyMMdd\")).alias(\"max_date\"))\n",
    "\n",
    "# Lấy giá trị cụ thể\n",
    "min_event_date = min_event_date_df.first()[\"min_event_date\"]\n",
    "min_purchase_date = min_purchase_date_df.first()[\"min_purchase_date\"]\n",
    "max_date = max_date_df.first()[\"max_date\"]\n",
    "\n",
    "# Tìm ngày nhỏ nhất từ cả hai cột\n",
    "min_date = min_event_date if min_event_date < min_purchase_date else min_purchase_date\n",
    "\n",
    "print(f\"Min event date: {min_event_date}\")\n",
    "print(f\"Min purchase date: {min_purchase_date}\")\n",
    "print(f\"Min date (used for dimension): {min_date}\")\n",
    "print(f\"Max date: {max_date}\")\n",
    "\n",
    "# Tạo date range\n",
    "days_diff = (max_date - min_date).days\n",
    "date_range_df = spark.range(0, days_diff + 1).withColumn(\n",
    "    \"Event Date\", \n",
    "    expr(f\"date_add(cast('{min_date}' as date), cast(id as int))\")\n",
    ").drop(\"id\")\n",
    "\n",
    "print('Number of dates in range:', date_range_df.count())"
   ]
  },
  {
   "cell_type": "code",
   "execution_count": 13,
   "id": "ca56ca47",
   "metadata": {},
   "outputs": [
    {
     "name": "stdout",
     "output_type": "stream",
     "text": [
      "Number of dates in complete range: 249\n",
      "+--------+---+-----+-------+----+---------+-------------+---------+----------+---------+\n",
      "| DateKey|Day|Month|Quarter|Year|DayOfWeek|DayOfWeekName|MonthName|WeekOfYear|MonthYear|\n",
      "+--------+---+-----+-------+----+---------+-------------+---------+----------+---------+\n",
      "|20230512| 12|    5|      2|2023|        6|       Friday|      May|        19|  2023-05|\n",
      "|20230513| 13|    5|      2|2023|        7|     Saturday|      May|        19|  2023-05|\n",
      "|20230514| 14|    5|      2|2023|        1|       Sunday|      May|        19|  2023-05|\n",
      "|20230515| 15|    5|      2|2023|        2|       Monday|      May|        20|  2023-05|\n",
      "|20230516| 16|    5|      2|2023|        3|      Tuesday|      May|        20|  2023-05|\n",
      "+--------+---+-----+-------+----+---------+-------------+---------+----------+---------+\n",
      "only showing top 5 rows\n",
      "\n"
     ]
    }
   ],
   "source": [
    "# Áp dung các phép biến đổi để tạo ra bảng ngày hoàn chỉnh\n",
    "complete_dim_date = date_range_df \\\n",
    "    .withColumn(\"DateKey\", date_format(\"Event Date\", \"yyyyMMdd\").cast(\"int\")) \\\n",
    "    .withColumn(\"Day\", dayofmonth(\"Event Date\")) \\\n",
    "    .withColumn(\"Month\", month(\"Event Date\")) \\\n",
    "    .withColumn(\"Quarter\", quarter(\"Event Date\")) \\\n",
    "    .withColumn(\"Year\", year(\"Event Date\")) \\\n",
    "    .withColumn(\"DayOfWeek\", dayofweek(\"Event Date\")) \\\n",
    "    .withColumn(\"DayOfWeekName\", date_format(\"Event Date\", \"EEEE\")) \\\n",
    "    .withColumn(\"MonthName\", date_format(\"Event Date\", \"MMMM\")) \\\n",
    "    .withColumn(\"WeekOfYear\", weekofyear(\"Event Date\")) \\\n",
    "    .withColumn(\"MonthYear\", date_format(\"Event Date\", \"yyyy-MM\")) \\\n",
    "    .drop(\"Event Date\")\n",
    "\n",
    "# Đếm số lượng ngày trong khoảng thời gian hoàn chỉnh\n",
    "print(f\"Number of dates in complete range: {complete_dim_date.count()}\")\n",
    "\n",
    "# Hiển thị 5 ngày đầu tiên trong bảng ngày hoàn chỉnh\n",
    "complete_dim_date.show(5)"
   ]
  },
  {
   "cell_type": "code",
   "execution_count": 14,
   "id": "e3b22490",
   "metadata": {},
   "outputs": [
    {
     "name": "stdout",
     "output_type": "stream",
     "text": [
      "+----------+------------------------------+------------+-----------------+---------------------+---------------------+------------------------------+-----------------------+--------------------+-----------------------+---------------------------+-------------------------+--------------+-----------------+------------------+-----------------+-----------------+---------------+------+------+-------+---------------+-------------------+------+-------------+-----+\n",
      "|Event Date|App Name                      |App Apple ID|Subscription Name|Subscription Apple ID|Subscription Group ID|Standard Subscription Duration|Subscription Offer Name|Promotional Offer ID|Subscription Offer Type|Subscription Offer Duration|Marketing Opt-In Duration|Customer Price|Customer Currency|Developer Proceeds|Proceeds Currency|Preserved Pricing|Proceeds Reason|Client|Device|Country|Subscriber ID  |Subscriber ID Reset|Refund|Purchase Date|Units|\n",
      "+----------+------------------------------+------------+-----------------+---------------------+---------------------+------------------------------+-----------------------+--------------------+-----------------------+---------------------------+-------------------------+--------------+-----------------+------------------+-----------------+-----------------+---------------+------+------+-------+---------------+-------------------+------+-------------+-----+\n",
      "|NULL      |Screen Mirroring| SmartTV Cast|1597094402  |Yearly sale      |1634176435           |20905769             |NULL                          |NULL                   |NULL                |NULL                   |NULL                       |NULL                     |29.99         |USD              |21.00             |USD              |                 |               |      |iPhone|US     |               |NULL               |NULL  |NULL         |1.00 |\n",
      "|NULL      |Universal TV Remote Control + |1644910903  |Weekly           |1644911334           |21017950             |NULL                          |NULL                   |NULL                |NULL                   |NULL                       |NULL                     |0.00          |USD              |0.00              |USD              |                 |               |      |iPhone|US     |               |NULL               |NULL  |NULL         |1.00 |\n",
      "|NULL      |Universal TV Remote Control + |1644910903  |Weekly           |1644911334           |21017950             |NULL                          |NULL                   |NULL                |NULL                   |NULL                       |NULL                     |6.99          |USD              |4.90              |USD              |                 |               |      |iPhone|US     |245576801703417|NULL               |NULL  |NULL         |1.00 |\n",
      "+----------+------------------------------+------------+-----------------+---------------------+---------------------+------------------------------+-----------------------+--------------------+-----------------------+---------------------------+-------------------------+--------------+-----------------+------------------+-----------------+-----------------+---------------+------+------+-------+---------------+-------------------+------+-------------+-----+\n",
      "\n"
     ]
    }
   ],
   "source": [
    "# Kiêm tra các ngày không có trong dữ liệu gốc\n",
    "df.filter(col(\"Event Date\").isNull()).show(truncate=False)"
   ]
  },
  {
   "cell_type": "code",
   "execution_count": 15,
   "id": "39f57d3c",
   "metadata": {},
   "outputs": [
    {
     "name": "stdout",
     "output_type": "stream",
     "text": [
      "+----------+--------------------+------------+-----------------+---------------------+---------------------+------------------------------+-----------------------+--------------------+-----------------------+---------------------------+-------------------------+--------------+-----------------+------------------+-----------------+-----------------+---------------+------+------+-------+---------------+-------------------+------+-------------+-----+\n",
      "|Event Date|            App Name|App Apple ID|Subscription Name|Subscription Apple ID|Subscription Group ID|Standard Subscription Duration|Subscription Offer Name|Promotional Offer ID|Subscription Offer Type|Subscription Offer Duration|Marketing Opt-In Duration|Customer Price|Customer Currency|Developer Proceeds|Proceeds Currency|Preserved Pricing|Proceeds Reason|Client|Device|Country|  Subscriber ID|Subscriber ID Reset|Refund|Purchase Date|Units|\n",
      "+----------+--------------------+------------+-----------------+---------------------+---------------------+------------------------------+-----------------------+--------------------+-----------------------+---------------------------+-------------------------+--------------+-----------------+------------------+-----------------+-----------------+---------------+------+------+-------+---------------+-------------------+------+-------------+-----+\n",
      "|  19000101|Screen Mirroring|...|  1597094402|      Yearly sale|           1634176435|             20905769|                          NULL|                   NULL|                NULL|                   NULL|                       NULL|                     NULL|         29.99|              USD|             21.00|              USD|                 |               |      |iPhone|     US|               |               NULL|  NULL|     19000101| 1.00|\n",
      "|  19000101|Universal TV Remo...|  1644910903|           Weekly|           1644911334|             21017950|                          NULL|                   NULL|                NULL|                   NULL|                       NULL|                     NULL|          0.00|              USD|              0.00|              USD|                 |               |      |iPhone|     US|               |               NULL|  NULL|     19000101| 1.00|\n",
      "|  19000101|Universal TV Remo...|  1644910903|           Weekly|           1644911334|             21017950|                          NULL|                   NULL|                NULL|                   NULL|                       NULL|                     NULL|          6.99|              USD|              4.90|              USD|                 |               |      |iPhone|     US|245576801703417|               NULL|  NULL|     19000101| 1.00|\n",
      "+----------+--------------------+------------+-----------------+---------------------+---------------------+------------------------------+-----------------------+--------------------+-----------------------+---------------------------+-------------------------+--------------+-----------------+------------------+-----------------+-----------------+---------------+------+------+-------+---------------+-------------------+------+-------------+-----+\n",
      "\n",
      "+----------+--------------------+------------+-----------------+---------------------+---------------------+------------------------------+-----------------------+--------------------+-----------------------+---------------------------+-------------------------+--------------+-----------------+------------------+-----------------+-----------------+---------------+------+------+-------+---------------+-------------------+------+-------------+-----+\n",
      "|Event Date|            App Name|App Apple ID|Subscription Name|Subscription Apple ID|Subscription Group ID|Standard Subscription Duration|Subscription Offer Name|Promotional Offer ID|Subscription Offer Type|Subscription Offer Duration|Marketing Opt-In Duration|Customer Price|Customer Currency|Developer Proceeds|Proceeds Currency|Preserved Pricing|Proceeds Reason|Client|Device|Country|  Subscriber ID|Subscriber ID Reset|Refund|Purchase Date|Units|\n",
      "+----------+--------------------+------------+-----------------+---------------------+---------------------+------------------------------+-----------------------+--------------------+-----------------------+---------------------------+-------------------------+--------------+-----------------+------------------+-----------------+-----------------+---------------+------+------+-------+---------------+-------------------+------+-------------+-----+\n",
      "|  20240113|Universal TV Remo...|  1644910903|           Weekly|           1644911334|             21017950|                        7 Days|                   NULL|                NULL|                   NULL|                       NULL|                     NULL|          6.99|              USD|              4.90|              USD|                 |               |      |iPhone|     US|266667164527997|               NULL|  NULL|     19000101| 1.00|\n",
      "|  20240113|Universal TV Remo...|  1644910903|           Weekly|           1644911334|             21017950|                        7 Days|                   NULL|                NULL|             Free Trial|                     3 Days|                     NULL|          0.00|              USD|              0.00|              USD|                 |               |      |iPhone|     US|553402396957258|               NULL|  NULL|     19000101| 1.00|\n",
      "|  20240113|Screen Mirroring ...|  1597094402|           Yearly|           1597465785|             20905769|                        1 Year|                   NULL|                NULL|                   NULL|                       NULL|                     NULL|         34.99|              USD|             24.50|              USD|                 |               |      |iPhone|     US|602610898912073|               NULL|  NULL|     19000101| 1.00|\n",
      "|  20240113|Universal TV Remo...|  1644910903|           Weekly|           1644911334|             21017950|                        7 Days|                   NULL|                NULL|                   NULL|                       NULL|                     NULL|          6.99|              USD|              4.90|              USD|                 |               |      |iPhone|     US|574619960080322|               NULL|  NULL|     19000101| 1.00|\n",
      "|  20240114|Screen Mirroring ...|  1597094402|      Yearly sale|           1634176435|             20905769|                        1 Year|                   NULL|                NULL|                   NULL|                       NULL|                     NULL|         29.99|              USD|             21.00|              USD|                 |               |      |iPhone|     US|658499876152638|               NULL|  NULL|     19000101| 1.00|\n",
      "+----------+--------------------+------------+-----------------+---------------------+---------------------+------------------------------+-----------------------+--------------------+-----------------------+---------------------------+-------------------------+--------------+-----------------+------------------+-----------------+-----------------+---------------+------+------+-------+---------------+-------------------+------+-------------+-----+\n",
      "only showing top 5 rows\n",
      "\n"
     ]
    }
   ],
   "source": [
    "\n",
    "# Thay thế giá trị NULL trong cột \"Event Date\" và \"Purchase Date\" bằng 19000101\n",
    "df = df.withColumn(\"Event Date\", coalesce(col(\"Event Date\"), lit(19000101)))\n",
    "df = df.withColumn(\"Purchase Date\", coalesce(col(\"Purchase Date\"), lit(19000101)))\n",
    "\n",
    "\n",
    "# Xác nhận thay thế thành công\n",
    "df.filter(col(\"Event Date\") == 19000101).show(5)\n",
    "df.filter(col(\"Purchase Date\") == 19000101).show(5)"
   ]
  },
  {
   "cell_type": "code",
   "execution_count": 16,
   "id": "244a6acc",
   "metadata": {},
   "outputs": [],
   "source": [
    "# Thêm bản ghi thể hiện ngày không xác định vào bảng ngày\n",
    "unknown_date = spark.createDataFrame([\n",
    "    (19000101, 1, 1, 1, 1900, 1, \"Monday\", \"January\", 1, \"1900-01\")\n",
    "], [\"DateKey\", \"Day\", \"Month\", \"Quarter\", \"Year\", \"DayOfWeek\", \"DayOfWeekName\", \"MonthName\", \"WeekOfYear\", \"MonthYear\"])\n",
    "\n",
    "complete_dim_date = complete_dim_date.union(unknown_date)"
   ]
  },
  {
   "cell_type": "code",
   "execution_count": 17,
   "id": "b6468c6b",
   "metadata": {},
   "outputs": [
    {
     "name": "stdout",
     "output_type": "stream",
     "text": [
      "+--------+---+-----+-------+----+---------+-------------+---------+----------+---------+\n",
      "| DateKey|Day|Month|Quarter|Year|DayOfWeek|DayOfWeekName|MonthName|WeekOfYear|MonthYear|\n",
      "+--------+---+-----+-------+----+---------+-------------+---------+----------+---------+\n",
      "|19000101|  1|    1|      1|1900|        1|       Monday|  January|         1|  1900-01|\n",
      "+--------+---+-----+-------+----+---------+-------------+---------+----------+---------+\n",
      "\n"
     ]
    }
   ],
   "source": [
    "# Kiểm tra xem ngày không xác định đã được thêm vào bảng ngày hoàn chỉnh\n",
    "complete_dim_date.filter(col(\"DateKey\")==19000101).show()"
   ]
  },
  {
   "cell_type": "markdown",
   "id": "88334768",
   "metadata": {},
   "source": [
    "#### Dim_App"
   ]
  },
  {
   "cell_type": "code",
   "execution_count": 18,
   "id": "7c7e8a24",
   "metadata": {},
   "outputs": [
    {
     "name": "stdout",
     "output_type": "stream",
     "text": [
      "+----------+-----------------------------+\n",
      "|AppAppleID|AppName                      |\n",
      "+----------+-----------------------------+\n",
      "|1597094402|Screen Mirroring SmartTV Cast|\n",
      "|1644910903|Universal TV Remote Control  |\n",
      "+----------+-----------------------------+\n",
      "\n"
     ]
    }
   ],
   "source": [
    "# Chọn các cột cần thiết cho Dimension App\n",
    "dim_app = df.select(\n",
    "    col(\"App Apple ID\").alias(\"AppAppleID\"),\n",
    "    col(\"App Name\").alias(\"AppName\")\n",
    ").distinct()\n",
    "\n",
    "dim_app = dim_app.withColumn(\"AppName\", regexp_replace(\"AppName\", \"[^a-zA-Z0-9\\\\s]\", \"\")).distinct()\n",
    "dim_app.show(20, truncate=False)"
   ]
  },
  {
   "cell_type": "markdown",
   "id": "2bd7a870",
   "metadata": {},
   "source": [
    "#### Dim_Subscription"
   ]
  },
  {
   "cell_type": "code",
   "execution_count": 19,
   "id": "d90b935c",
   "metadata": {},
   "outputs": [
    {
     "name": "stdout",
     "output_type": "stream",
     "text": [
      "+-------------------+-------------------+-------------------+\n",
      "|SubscriptionAppleID|   SubscriptionName|SubscriptionGroupID|\n",
      "+-------------------+-------------------+-------------------+\n",
      "|         6445357999|      Week sale-off|           21100689|\n",
      "|         1597465785|             Yearly|           20905769|\n",
      "|         6445194899|        Yearly sale|           21100689|\n",
      "|         6463114518|        Year Upsale|           20905769|\n",
      "|         6463854633|    Monthly Upgrade|           21017950|\n",
      "|         6472164305|  Weekly Black Sale|           21017950|\n",
      "|         6445194679|        Weekly sale|           21100689|\n",
      "|         1634176435|        Yearly sale|           20905769|\n",
      "|         1629807112|     Weekly Premium|           20905769|\n",
      "|         1644911963|             Yearly|           21017950|\n",
      "|         1644911334|             Weekly|           21017950|\n",
      "|         6475703813|           Yearly 2|           20905769|\n",
      "|         1597465274|            Monthly|           20905769|\n",
      "|         1644911849|            Monthly|           21017950|\n",
      "|         6463855015|     Yearly Upgrade|           21017950|\n",
      "|         6463855242|Monthly Upgrade GR2|           21100689|\n",
      "|         6472164414|  Yearly Black Sale|           21017950|\n",
      "+-------------------+-------------------+-------------------+\n",
      "\n"
     ]
    }
   ],
   "source": [
    "# Chọn các cột cần thiết cho Dimension Subscription\n",
    "dim_subscription = df.select(\n",
    "    col(\"Subscription Apple ID\").alias(\"SubscriptionAppleID\"),\n",
    "    col(\"Subscription Name\").alias(\"SubscriptionName\"),                   \n",
    "    col(\"Subscription Group ID\").alias(\"SubscriptionGroupID\"),\n",
    ").distinct()\n",
    "\n",
    "dim_subscription.show()"
   ]
  },
  {
   "cell_type": "markdown",
   "id": "6a0709b8",
   "metadata": {},
   "source": [
    "#### Dictionary_ExchangeRates"
   ]
  },
  {
   "cell_type": "code",
   "execution_count": 20,
   "id": "d1e83f43",
   "metadata": {},
   "outputs": [
    {
     "name": "stdout",
     "output_type": "stream",
     "text": [
      "+-----------------+\n",
      "|Customer Currency|\n",
      "+-----------------+\n",
      "|              DKK|\n",
      "|              MYR|\n",
      "|              NZD|\n",
      "|              HUF|\n",
      "|              GBP|\n",
      "|              CHF|\n",
      "|              BRL|\n",
      "|              CZK|\n",
      "|              COP|\n",
      "|              IDR|\n",
      "|              TRY|\n",
      "|              CAD|\n",
      "|              AED|\n",
      "|              SAR|\n",
      "|              EUR|\n",
      "|              TWD|\n",
      "|              THB|\n",
      "|              ZAR|\n",
      "|              PKR|\n",
      "|              ILS|\n",
      "+-----------------+\n",
      "only showing top 20 rows\n",
      "\n"
     ]
    }
   ],
   "source": [
    "# Xem các giá trị của \"Customer Currency\"\n",
    "df.select(\"Customer Currency\").distinct().show()"
   ]
  },
  {
   "cell_type": "code",
   "execution_count": null,
   "id": "248f631d",
   "metadata": {},
   "outputs": [
    {
     "name": "stdout",
     "output_type": "stream",
     "text": [
      "Total currencies in dictionary: 288\n",
      "Sample exchange rates: {'ADA': 1.36962165, 'AED': 3.6725, 'AFN': 69.44275238, 'AKT': 0.71146196, 'ALL': 86.09091841}\n"
     ]
    }
   ],
   "source": [
    "import requests\n",
    "from datetime import datetime\n",
    "from pyspark.sql import Row\n",
    "\n",
    "# URL API cung cấp dữ liệu tỷ giá USD\n",
    "# https://cdn.jsdelivr.net/npm/@fawazahmed0/currency-api@latest/v1/currencies/usd.json\n",
    "url = \"https://cdn.jsdelivr.net/npm/@fawazahmed0/currency-api@2025-06-03/v1/currencies/usd.json\"\n",
    "\n",
    "# Gọi API và lấy dữ liệu JSON\n",
    "response = requests.get(url)\n",
    "data = response.json()\n",
    "\n",
    "# Lấy thông tin ngày từ key \"date\" (ví dụ: \"2025-06-03\")\n",
    "rate_date_str = data.get(\"date\")\n",
    "rate_date = datetime.strptime(rate_date_str, \"%Y-%m-%d\").date()  # chuyển thành kiểu date\n",
    "\n",
    "# Lấy dictionary chứa các tỷ giá từ USD (key: mã tiền, value: tỷ giá)\n",
    "rates = data.get(\"usd\", {})\n",
    "exchange_rates_dict = {k.upper(): float(v) for k, v in rates.items() if len(k) == 3}\n",
    "\n",
    "# Hiển thị dictionary tỷ giá để kiểm tra\n",
    "print(f\"Total currencies in dictionary: {len(exchange_rates_dict)}\")\n",
    "print(\"Sample exchange rates:\", dict(list(exchange_rates_dict.items())[:5]))\n",
    "\n",
    "'''\n",
    "# Tạo danh sách các bản ghi, chuyển đổi currency code sang chữ in hoa\n",
    "rows = [Row(CurrencyCode=k.upper(), RateDate=rate_date, RateToUSD=float(v))\n",
    "        for k, v in rates.items() if len(k) == 3]\n",
    "\n",
    "# Tạo DataFrame với cột theo cấu trúc bảng Dim_ExchangeRates\n",
    "columns = [\"CurrencyCode\", \"RateDate\", \"RateToUSD\"]\n",
    "dim_exchange_rates = spark.createDataFrame(rows, schema=columns)\n",
    "\n",
    "# Hiển thị DataFrame\n",
    "dim_exchange_rates.show(truncate=False)\n",
    "'''\n"
   ]
  },
  {
   "cell_type": "markdown",
   "id": "809ae3f9",
   "metadata": {},
   "source": [
    "#### Dim_Country"
   ]
  },
  {
   "cell_type": "code",
   "execution_count": 23,
   "id": "01bbb80a",
   "metadata": {},
   "outputs": [
    {
     "name": "stdout",
     "output_type": "stream",
     "text": [
      "+----------+------------------------------+------------+-----------------+---------------------+---------------------+------------------------------+-----------------------+--------------------+-----------------------+---------------------------+-------------------------+--------------+-----------------+------------------+-----------------+-----------------+---------------+------+------+-------+---------------+-------------------+------+-------------+-----+\n",
      "|Event Date|App Name                      |App Apple ID|Subscription Name|Subscription Apple ID|Subscription Group ID|Standard Subscription Duration|Subscription Offer Name|Promotional Offer ID|Subscription Offer Type|Subscription Offer Duration|Marketing Opt-In Duration|Customer Price|Customer Currency|Developer Proceeds|Proceeds Currency|Preserved Pricing|Proceeds Reason|Client|Device|Country|Subscriber ID  |Subscriber ID Reset|Refund|Purchase Date|Units|\n",
      "+----------+------------------------------+------------+-----------------+---------------------+---------------------+------------------------------+-----------------------+--------------------+-----------------------+---------------------------+-------------------------+--------------+-----------------+------------------+-----------------+-----------------+---------------+------+------+-------+---------------+-------------------+------+-------------+-----+\n",
      "|20240112  |Universal TV Remote Control + |1644910903  |Weekly sale      |6445194679           |21100689             |7 Days                        |NULL                   |NULL                |NULL                   |NULL                       |NULL                     |4.99          |USD              |3.50              |USD              |                 |               |      |iPhone|NULL   |581584119964136|NULL               |NULL  |19000101     |1.00 |\n",
      "|20240111  |Universal TV Remote Control + |1644910903  |Weekly           |1644911334           |21017950             |7 Days                        |NULL                   |NULL                |Free Trial             |3 Days                     |NULL                     |0.00          |USD              |0.00              |USD              |                 |               |      |iPhone|NULL   |245577648248774|NULL               |NULL  |19000101     |1.00 |\n",
      "|20240111  |Screen Mirroring SmartTV Cast.|1597094402  |Yearly           |1597465785           |20905769             |1 Year                        |NULL                   |NULL                |NULL                   |NULL                       |NULL                     |29.99         |USD              |21.00             |USD              |                 |               |      |iPhone|NULL   |602610810720333|NULL               |NULL  |19000101     |1.00 |\n",
      "+----------+------------------------------+------------+-----------------+---------------------+---------------------+------------------------------+-----------------------+--------------------+-----------------------+---------------------------+-------------------------+--------------+-----------------+------------------+-----------------+-----------------+---------------+------+------+-------+---------------+-------------------+------+-------------+-----+\n",
      "\n"
     ]
    }
   ],
   "source": [
    "# Kiểm tra các giá trị NULL trong cột \"Country\"\n",
    "df.filter(col(\"Country\").isNull()).show(truncate=False)"
   ]
  },
  {
   "cell_type": "code",
   "execution_count": 24,
   "id": "a9195d5c",
   "metadata": {},
   "outputs": [
    {
     "name": "stdout",
     "output_type": "stream",
     "text": [
      "+----------+------------------------------+------------+-----------------+---------------------+---------------------+------------------------------+-----------------------+--------------------+-----------------------+---------------------------+-------------------------+--------------+-----------------+------------------+-----------------+-----------------+---------------+------+------+-------+---------------+-------------------+------+-------------+-----+\n",
      "|Event Date|App Name                      |App Apple ID|Subscription Name|Subscription Apple ID|Subscription Group ID|Standard Subscription Duration|Subscription Offer Name|Promotional Offer ID|Subscription Offer Type|Subscription Offer Duration|Marketing Opt-In Duration|Customer Price|Customer Currency|Developer Proceeds|Proceeds Currency|Preserved Pricing|Proceeds Reason|Client|Device|Country|Subscriber ID  |Subscriber ID Reset|Refund|Purchase Date|Units|\n",
      "+----------+------------------------------+------------+-----------------+---------------------+---------------------+------------------------------+-----------------------+--------------------+-----------------------+---------------------------+-------------------------+--------------+-----------------+------------------+-----------------+-----------------+---------------+------+------+-------+---------------+-------------------+------+-------------+-----+\n",
      "|20240112  |Universal TV Remote Control + |1644910903  |Weekly sale      |6445194679           |21100689             |7 Days                        |NULL                   |NULL                |NULL                   |NULL                       |NULL                     |4.99          |USD              |3.50              |USD              |                 |               |      |iPhone|UNK    |581584119964136|NULL               |NULL  |19000101     |1.00 |\n",
      "|20240111  |Universal TV Remote Control + |1644910903  |Weekly           |1644911334           |21017950             |7 Days                        |NULL                   |NULL                |Free Trial             |3 Days                     |NULL                     |0.00          |USD              |0.00              |USD              |                 |               |      |iPhone|UNK    |245577648248774|NULL               |NULL  |19000101     |1.00 |\n",
      "|20240111  |Screen Mirroring SmartTV Cast.|1597094402  |Yearly           |1597465785           |20905769             |1 Year                        |NULL                   |NULL                |NULL                   |NULL                       |NULL                     |29.99         |USD              |21.00             |USD              |                 |               |      |iPhone|UNK    |602610810720333|NULL               |NULL  |19000101     |1.00 |\n",
      "+----------+------------------------------+------------+-----------------+---------------------+---------------------+------------------------------+-----------------------+--------------------+-----------------------+---------------------------+-------------------------+--------------+-----------------+------------------+-----------------+-----------------+---------------+------+------+-------+---------------+-------------------+------+-------------+-----+\n",
      "\n"
     ]
    }
   ],
   "source": [
    "# Thay thế các giá trị NULL trong cột \"Country\" bằng \"UNK\"\n",
    "df = df.withColumn(\"Country\", coalesce(col(\"Country\"), lit(\"UNK\")))\n",
    "df.filter(col(\"Country\") == \"UNK\").show(5, truncate=False)"
   ]
  },
  {
   "cell_type": "code",
   "execution_count": 26,
   "id": "796581bf",
   "metadata": {},
   "outputs": [
    {
     "name": "stdout",
     "output_type": "stream",
     "text": [
      "+-----------+-------------------+\n",
      "|CountryCode|CountryName        |\n",
      "+-----------+-------------------+\n",
      "|AF         |Afghanistan        |\n",
      "|AX         |Åland Islands      |\n",
      "|AL         |Albania            |\n",
      "|DZ         |Algeria            |\n",
      "|AS         |American Samoa     |\n",
      "|AD         |Andorra            |\n",
      "|AO         |Angola             |\n",
      "|AI         |Anguilla           |\n",
      "|AQ         |Antarctica         |\n",
      "|AG         |Antigua and Barbuda|\n",
      "+-----------+-------------------+\n",
      "only showing top 10 rows\n",
      "\n"
     ]
    }
   ],
   "source": [
    "import requests\n",
    "from bs4 import BeautifulSoup\n",
    "# URL của trang Wikipedia chứa danh sách ISO 3166 country codes\n",
    "url = 'https://www.iban.com/country-codes'\n",
    "response = requests.get(url)\n",
    "if response.status_code == 200:\n",
    "    soup = BeautifulSoup(response.content, 'html.parser')\n",
    "    \n",
    "    table = soup.find('table', id='myTable')\n",
    "    \n",
    "    rows = table.find('tbody').find_all('tr')\n",
    "    \n",
    "    data = []\n",
    "    for row in rows:\n",
    "        cols = row.find_all('td')\n",
    "        if cols:\n",
    "            # Cột đầu là CountryName, cột thứ hai là CountryCode (Alpha-2 code)\n",
    "            country = cols[0].get_text(strip=True)\n",
    "            alpha2 = cols[1].get_text(strip=True)\n",
    "            data.append({'CountryName': country, 'CountryCode': alpha2})\n",
    "    \n",
    "    dim_country = spark.createDataFrame(data)\n",
    "    dim_country.show(10, truncate=False)\n",
    "else:\n",
    "    print(\"Không truy cập được vào trang, hãy kiểm tra lại URL hoặc kết nối của bạn.\")"
   ]
  },
  {
   "cell_type": "code",
   "execution_count": 27,
   "id": "62fe18e6",
   "metadata": {},
   "outputs": [],
   "source": [
    "# Thêm một bản ghi cho quốc gia không xác định vào Dimension Country\n",
    "unknown_country = spark.createDataFrame([\n",
    "    (\"UNK\", \"Unknown Country\")\n",
    "], [\"CountryCode\", \"CountryName\"])\n",
    "\n",
    "# Add the unknown country to your dimension\n",
    "dim_country_complete = dim_country.union(unknown_country)"
   ]
  },
  {
   "cell_type": "code",
   "execution_count": 28,
   "id": "3e16dc42",
   "metadata": {},
   "outputs": [
    {
     "name": "stdout",
     "output_type": "stream",
     "text": [
      "+-----------+---------------+\n",
      "|CountryCode|    CountryName|\n",
      "+-----------+---------------+\n",
      "|        UNK|Unknown Country|\n",
      "+-----------+---------------+\n",
      "\n"
     ]
    }
   ],
   "source": [
    "# Xác nhận rằng bản ghi \"UNK\" đã được thêm vào bảng Dim_Country\n",
    "dim_country_complete.filter(col(\"CountryCode\") == \"UNK\").show()"
   ]
  },
  {
   "cell_type": "markdown",
   "id": "6f785195",
   "metadata": {},
   "source": [
    "#### Dim_Subscriber"
   ]
  },
  {
   "cell_type": "code",
   "execution_count": 29,
   "id": "b372b600",
   "metadata": {},
   "outputs": [
    {
     "name": "stdout",
     "output_type": "stream",
     "text": [
      "+----------+------------------------------+------------+-----------------+---------------------+---------------------+------------------------------+-----------------------+--------------------+-----------------------+---------------------------+-------------------------+--------------+-----------------+------------------+-----------------+-----------------+---------------+------+------+-------+-------------+-------------------+------+-------------+-----+\n",
      "|Event Date|App Name                      |App Apple ID|Subscription Name|Subscription Apple ID|Subscription Group ID|Standard Subscription Duration|Subscription Offer Name|Promotional Offer ID|Subscription Offer Type|Subscription Offer Duration|Marketing Opt-In Duration|Customer Price|Customer Currency|Developer Proceeds|Proceeds Currency|Preserved Pricing|Proceeds Reason|Client|Device|Country|Subscriber ID|Subscriber ID Reset|Refund|Purchase Date|Units|\n",
      "+----------+------------------------------+------------+-----------------+---------------------+---------------------+------------------------------+-----------------------+--------------------+-----------------------+---------------------------+-------------------------+--------------+-----------------+------------------+-----------------+-----------------+---------------+------+------+-------+-------------+-------------------+------+-------------+-----+\n",
      "|19000101  |Screen Mirroring| SmartTV Cast|1597094402  |Yearly sale      |1634176435           |20905769             |NULL                          |NULL                   |NULL                |NULL                   |NULL                       |NULL                     |29.99         |USD              |21.00             |USD              |                 |               |      |iPhone|US     |             |NULL               |NULL  |19000101     |1.00 |\n",
      "|19000101  |Universal TV Remote Control + |1644910903  |Weekly           |1644911334           |21017950             |NULL                          |NULL                   |NULL                |NULL                   |NULL                       |NULL                     |0.00          |USD              |0.00              |USD              |                 |               |      |iPhone|US     |             |NULL               |NULL  |19000101     |1.00 |\n",
      "+----------+------------------------------+------------+-----------------+---------------------+---------------------+------------------------------+-----------------------+--------------------+-----------------------+---------------------------+-------------------------+--------------+-----------------+------------------+-----------------+-----------------+---------------+------+------+-------+-------------+-------------------+------+-------------+-----+\n",
      "\n"
     ]
    }
   ],
   "source": [
    "# Kiểm tra các giá trị là rỗng trong cột \"Subscriber ID\"\n",
    "df.filter(trim(col(\"Subscriber ID\")) == \"\").show(truncate=False)"
   ]
  },
  {
   "cell_type": "code",
   "execution_count": 30,
   "id": "957f0178",
   "metadata": {},
   "outputs": [],
   "source": [
    "# Thay thế các giá trị rỗng trong cột \"Subscriber ID\" dựa trên cột \"Subscriber ID Reset\"\n",
    "df = df.withColumn(\"Subscriber ID\", \n",
    "    when((trim(col(\"Subscriber ID\")) == \"\") & (col(\"Subscriber ID Reset\").isNull()), \"UNKNOWN_NULL\")\n",
    "    .when((trim(col(\"Subscriber ID\")) == \"\") & (col(\"Subscriber ID Reset\") == \"Yes\"), \"UNKNOWN_YES\")\n",
    "    .otherwise(col(\"Subscriber ID\")))"
   ]
  },
  {
   "cell_type": "code",
   "execution_count": 31,
   "id": "46c38a90",
   "metadata": {},
   "outputs": [],
   "source": [
    "from pyspark.sql.types import StringType, StructType, StructField\n",
    "\n",
    "schema = StructType([\n",
    "    StructField(\"SubscriberID\", StringType(), True),\n",
    "    StructField(\"SubscriberIDReset\", StringType(), True)\n",
    "])\n",
    "\n",
    "unknown_subscriber = spark.createDataFrame([\n",
    "    (\"UNKNOWN_NULL\", \"NULL\"),\n",
    "    (\"UNKNOWN_YES\", \"Yes\")\n",
    "], schema)\n"
   ]
  },
  {
   "cell_type": "code",
   "execution_count": 32,
   "id": "76ac50af",
   "metadata": {},
   "outputs": [
    {
     "name": "stdout",
     "output_type": "stream",
     "text": [
      "+---------------+-----------------+\n",
      "|   SubscriberID|SubscriberIDReset|\n",
      "+---------------+-----------------+\n",
      "|210585693248331|              Yes|\n",
      "|700484934443072|              Yes|\n",
      "|609605232465315|              Yes|\n",
      "|238698869259496|              Yes|\n",
      "|266667262379240|              Yes|\n",
      "+---------------+-----------------+\n",
      "only showing top 5 rows\n",
      "\n"
     ]
    }
   ],
   "source": [
    "dim_subscriber = df.select(\n",
    "    col(\"Subscriber ID\").alias(\"SubscriberID\"),\n",
    "    col(\"Subscriber ID Reset\").alias(\"SubscriberIDReset\")\n",
    ").distinct()\n",
    "\n",
    "dim_subscriber.show(5)\n"
   ]
  },
  {
   "cell_type": "code",
   "execution_count": 33,
   "id": "47a43efe",
   "metadata": {},
   "outputs": [
    {
     "name": "stdout",
     "output_type": "stream",
     "text": [
      "+---------------+--------------------+\n",
      "|SubscriberID   |distinct_reset_count|\n",
      "+---------------+--------------------+\n",
      "|455577881137507|2                   |\n",
      "+---------------+--------------------+\n",
      "\n"
     ]
    }
   ],
   "source": [
    "dim_subscriber = dim_subscriber.withColumn(\"SubscriberIDReset\", coalesce(col(\"SubscriberIDReset\"), lit(\"NULL\")))\n",
    "dim_subscriber_agg = dim_subscriber.groupBy(\"SubscriberID\").agg(\n",
    "    countDistinct(\"SubscriberIDReset\").alias(\"distinct_reset_count\")\n",
    ")\n",
    "# Lọc những subscriber có nhiều hơn 1 giá trị khác nhau ở cột reset\n",
    "subscriber_diff = dim_subscriber_agg.filter(col(\"distinct_reset_count\") > 1)\n",
    "subscriber_diff.show(truncate=False)"
   ]
  },
  {
   "cell_type": "code",
   "execution_count": 34,
   "id": "2113bc1a",
   "metadata": {},
   "outputs": [
    {
     "name": "stdout",
     "output_type": "stream",
     "text": [
      "+----------+-----------------------------+------------+-----------------+---------------------+---------------------+------------------------------+-----------------------+--------------------+-----------------------+---------------------------+-------------------------+--------------+-----------------+------------------+-----------------+-----------------+---------------+------+------+-------+---------------+-------------------+------+-------------+-----+\n",
      "|Event Date|App Name                     |App Apple ID|Subscription Name|Subscription Apple ID|Subscription Group ID|Standard Subscription Duration|Subscription Offer Name|Promotional Offer ID|Subscription Offer Type|Subscription Offer Duration|Marketing Opt-In Duration|Customer Price|Customer Currency|Developer Proceeds|Proceeds Currency|Preserved Pricing|Proceeds Reason|Client|Device|Country|Subscriber ID  |Subscriber ID Reset|Refund|Purchase Date|Units|\n",
      "+----------+-----------------------------+------------+-----------------+---------------------+---------------------+------------------------------+-----------------------+--------------------+-----------------------+---------------------------+-------------------------+--------------+-----------------+------------------+-----------------+-----------------+---------------+------+------+-------+---------------+-------------------+------+-------------+-----+\n",
      "|20240105  |Universal TV Remote Control +|1644910903  |Weekly           |1644911334           |21017950             |7 Days                        |NULL                   |NULL                |Free Trial             |3 Days                     |NULL                     |0.00          |USD              |0.00              |USD              |                 |               |      |iPhone|US     |455577881137507|Yes                |NULL  |19000101     |1.00 |\n",
      "|20240108  |Universal TV Remote Control +|1644910903  |Weekly           |1644911334           |21017950             |7 Days                        |NULL                   |NULL                |NULL                   |NULL                       |NULL                     |6.99          |USD              |4.90              |USD              |                 |               |      |iPhone|US     |455577881137507|NULL               |NULL  |19000101     |1.00 |\n",
      "+----------+-----------------------------+------------+-----------------+---------------------+---------------------+------------------------------+-----------------------+--------------------+-----------------------+---------------------------+-------------------------+--------------+-----------------+------------------+-----------------+-----------------+---------------+------+------+-------+---------------+-------------------+------+-------------+-----+\n",
      "\n"
     ]
    }
   ],
   "source": [
    "df.filter(col(\"Subscriber ID\") == \"455577881137507\").show(truncate=False)"
   ]
  },
  {
   "cell_type": "code",
   "execution_count": 35,
   "id": "97ae9a4a",
   "metadata": {},
   "outputs": [
    {
     "name": "stdout",
     "output_type": "stream",
     "text": [
      "+----------------+-----------------+\n",
      "|SubscriberID    |SubscriberIDReset|\n",
      "+----------------+-----------------+\n",
      "|1442000182691007|NULL             |\n",
      "|1449000167645592|NULL             |\n",
      "|1449000169356693|NULL             |\n",
      "|1449000177180257|NULL             |\n",
      "|1449000178273951|NULL             |\n",
      "|1449000179958256|NULL             |\n",
      "|1449000185583911|NULL             |\n",
      "|1449000198683851|NULL             |\n",
      "|1477000180579275|NULL             |\n",
      "|1519000199096970|NULL             |\n",
      "|1533001263383305|NULL             |\n",
      "|1533001408085975|NULL             |\n",
      "|1533001986516674|NULL             |\n",
      "|1533002859464127|NULL             |\n",
      "|154556356688771 |NULL             |\n",
      "|154557547972823 |NULL             |\n",
      "|154560619206863 |NULL             |\n",
      "|154561122997108 |NULL             |\n",
      "|154561240771912 |NULL             |\n",
      "|154561516670304 |NULL             |\n",
      "+----------------+-----------------+\n",
      "only showing top 20 rows\n",
      "\n"
     ]
    }
   ],
   "source": [
    "# Gom nhóm theo SubscriberID và thu thập tập các giá trị SubscriberIDReset (set không trùng lặp)\n",
    "dim_subscriber_grouped = dim_subscriber.groupBy(\"SubscriberID\") \\\n",
    "    .agg(collect_set(\"SubscriberIDReset\").alias(\"reset_values\"))\n",
    "\n",
    "# Tạo cột SubscriberIDReset mới: nếu trong tập reset_values có \"Yes\" thì gán \"Yes\", ngược lại gán \"NULL\"\n",
    "dim_subscriber_final = dim_subscriber_grouped.withColumn(\n",
    "    \"SubscriberIDReset\",\n",
    "    when(array_contains(col(\"reset_values\"), \"Yes\"), lit(\"Yes\"))\n",
    "    .otherwise(lit(\"NULL\"))\n",
    ").drop(\"reset_values\")\n",
    "\n",
    "dim_subscriber_final.show(truncate=False)"
   ]
  },
  {
   "cell_type": "code",
   "execution_count": 36,
   "id": "5998d72b",
   "metadata": {},
   "outputs": [],
   "source": [
    "# Thêm bản ghi cho các Subscriber không xác định vào Dimension Subscriber\n",
    "dim_subscriber_complete = dim_subscriber_final.union(unknown_subscriber).distinct()"
   ]
  },
  {
   "cell_type": "code",
   "execution_count": 37,
   "id": "16073a39",
   "metadata": {},
   "outputs": [
    {
     "name": "stdout",
     "output_type": "stream",
     "text": [
      "+------------+-----------------+\n",
      "|SubscriberID|SubscriberIDReset|\n",
      "+------------+-----------------+\n",
      "|UNKNOWN_NULL|             NULL|\n",
      "+------------+-----------------+\n",
      "\n"
     ]
    }
   ],
   "source": [
    "# Xác nhận rằng bản ghi \"UNKNOWN_NULL\" đã được thêm vào bảng Dim_Subscriber\n",
    "dim_subscriber_complete.filter(col(\"SubscriberID\") == \"UNKNOWN_NULL\").show()"
   ]
  },
  {
   "cell_type": "markdown",
   "id": "998a8ba2",
   "metadata": {},
   "source": [
    "#### Fact_SubscriptionSales"
   ]
  },
  {
   "cell_type": "code",
   "execution_count": 38,
   "id": "6090f429",
   "metadata": {},
   "outputs": [
    {
     "name": "stdout",
     "output_type": "stream",
     "text": [
      "Number of rows in fact table: 19641\n",
      "+------------+----------+---------------+----------+---------------+---------------+-------------+----------------+-----------------+----------------+------+------+-----+\n",
      "|EventDateKey|AppKey    |SubscriptionKey|CountryKey|SubscriberKey  |PurchaseDateKey|CustomerPrice|CustomerCurrency|DeveloperProceeds|ProceedsCurrency|Device|Refund|Units|\n",
      "+------------+----------+---------------+----------+---------------+---------------+-------------+----------------+-----------------+----------------+------+------+-----+\n",
      "|20240113    |1644910903|1644911334     |US        |266667164527997|19000101       |6.99         |USD             |4.90             |USD             |iPhone|NULL  |1.00 |\n",
      "|20240113    |1644910903|1644911334     |US        |553402396957258|19000101       |0.00         |USD             |0.00             |USD             |iPhone|NULL  |1.00 |\n",
      "|20240113    |1597094402|1597465785     |US        |602610898912073|19000101       |34.99        |USD             |24.50            |USD             |iPhone|NULL  |1.00 |\n",
      "|20240113    |1644910903|1644911334     |US        |574619960080322|19000101       |6.99         |USD             |4.90             |USD             |iPhone|NULL  |1.00 |\n",
      "|20240114    |1597094402|1634176435     |US        |658499876152638|19000101       |29.99        |USD             |21.00            |USD             |iPhone|NULL  |1.00 |\n",
      "+------------+----------+---------------+----------+---------------+---------------+-------------+----------------+-----------------+----------------+------+------+-----+\n",
      "only showing top 5 rows\n",
      "\n"
     ]
    }
   ],
   "source": [
    "fact_subscription_sales = df.select(\n",
    "    # Dimension keys\n",
    "    col(\"Event Date\").alias(\"EventDateKey\"),\n",
    "    col(\"App Apple ID\").alias(\"AppKey\"),\n",
    "    col(\"Subscription Apple ID\").alias(\"SubscriptionKey\"),\n",
    "    col(\"Country\").alias(\"CountryKey\"),\n",
    "    col(\"Subscriber ID\").alias(\"SubscriberKey\"),\n",
    "    col(\"Purchase Date\").alias(\"PurchaseDateKey\"),\n",
    "\n",
    "    \n",
    "    # Measures\n",
    "    col(\"Customer Price\").alias(\"CustomerPrice\"),\n",
    "    col(\"Customer Currency\").alias(\"CustomerCurrency\"),\n",
    "    col(\"Developer Proceeds\").alias(\"DeveloperProceeds\"),\n",
    "    col(\"Proceeds Currency\").alias(\"ProceedsCurrency\"),\n",
    "    col(\"Device\").alias(\"Device\"),\n",
    "    col(\"Refund\").alias(\"Refund\"),\n",
    "    coalesce(col(\"Units\"), lit(1)).alias(\"Units\")\n",
    ")\n",
    "\n",
    "# Hiển thị số lượng bản ghi trong bảng fact và 5 bản ghi đầu tiên\n",
    "print(f\"Number of rows in fact table: {fact_subscription_sales.count()}\")\n",
    "fact_subscription_sales.show(5, truncate=False)"
   ]
  },
  {
   "cell_type": "code",
   "execution_count": 39,
   "id": "57bbf14f",
   "metadata": {},
   "outputs": [],
   "source": [
    "# Tạo hàm UDF để chuyển đổi giá trị sang USD\n",
    "def convert_to_usd(value, currency):\n",
    "    if value is None or currency is None:\n",
    "        return None\n",
    "    \n",
    "    rate = exchange_rates_dict.get(currency, 1.0)  # Mặc định là 1.0 nếu không tìm thấy tỷ giá\n",
    "    return float(value) * (1.0 / rate)  # Đổi từ loại tiền khác sang USD\n",
    "\n",
    "# Đăng ký UDF\n",
    "convert_to_usd_udf = udf(convert_to_usd)"
   ]
  },
  {
   "cell_type": "code",
   "execution_count": 40,
   "id": "e14eabb9",
   "metadata": {},
   "outputs": [],
   "source": [
    "# Thêm cột giá tiền USD\n",
    "fact_subscription_sales = fact_subscription_sales.withColumn(\n",
    "    \"CustomerPriceUSD\", \n",
    "    convert_to_usd_udf(col(\"CustomerPrice\"), col(\"CustomerCurrency\"))\n",
    ")"
   ]
  },
  {
   "cell_type": "code",
   "execution_count": 43,
   "id": "5aa2e345",
   "metadata": {},
   "outputs": [
    {
     "name": "stdout",
     "output_type": "stream",
     "text": [
      "+------------+----------+---------------+----------+---------------+---------------+-------------+----------------+-----------------+----------------+------+------+-----+-----------------+\n",
      "|EventDateKey|AppKey    |SubscriptionKey|CountryKey|SubscriberKey  |PurchaseDateKey|CustomerPrice|CustomerCurrency|DeveloperProceeds|ProceedsCurrency|Device|Refund|Units|CustomerPriceUSD |\n",
      "+------------+----------+---------------+----------+---------------+---------------+-------------+----------------+-----------------+----------------+------+------+-----+-----------------+\n",
      "|20240113    |1644910903|1644911334     |US        |266667164527997|19000101       |6.99         |USD             |4.90             |USD             |iPhone|NULL  |1.00 |6.99             |\n",
      "|20240113    |1644910903|1644911334     |US        |553402396957258|19000101       |0.00         |USD             |0.00             |USD             |iPhone|NULL  |1.00 |0.0              |\n",
      "|20240113    |1597094402|1597465785     |US        |602610898912073|19000101       |34.99        |USD             |24.50            |USD             |iPhone|NULL  |1.00 |34.99            |\n",
      "|20240113    |1644910903|1644911334     |US        |574619960080322|19000101       |6.99         |USD             |4.90             |USD             |iPhone|NULL  |1.00 |6.99             |\n",
      "|20240114    |1597094402|1634176435     |US        |658499876152638|19000101       |29.99        |USD             |21.00            |USD             |iPhone|NULL  |1.00 |29.99            |\n",
      "|20240114    |1644910903|1644911334     |US        |525625206067516|19000101       |0.00         |USD             |0.00             |USD             |iPhone|NULL  |1.00 |0.0              |\n",
      "|20240114    |1597094402|1629807112     |VN        |217692232165893|19000101       |0.00         |VND             |0.00             |VND             |iPhone|NULL  |1.00 |0.0              |\n",
      "|20240114    |1597094402|1634176435     |US        |609605692754676|19000101       |29.99        |USD             |21.00            |USD             |iPhone|NULL  |1.00 |29.99            |\n",
      "|20240114    |1644910903|1644911334     |US        |791443465702521|19000101       |4.99         |USD             |4.24             |USD             |iPhone|NULL  |1.00 |4.99             |\n",
      "|20240114    |1644910903|1644911963     |US        |616607501471964|19000101       |0.00         |USD             |0.00             |USD             |iPhone|NULL  |1.00 |0.0              |\n",
      "|20240114    |1644910903|1644911334     |US        |539496207054310|19000101       |6.99         |USD             |4.90             |USD             |iPhone|NULL  |1.00 |6.99             |\n",
      "|20240114    |1644910903|1644911963     |US        |525625229544879|19000101       |0.00         |USD             |0.00             |USD             |iPhone|NULL  |1.00 |0.0              |\n",
      "|20240114    |1644910903|1644911963     |US        |427597062545354|19000101       |0.00         |USD             |0.00             |USD             |iPhone|NULL  |1.00 |0.0              |\n",
      "|20240114    |1644910903|1644911334     |US        |651541748572549|19000101       |0.00         |USD             |0.00             |USD             |iPhone|NULL  |1.00 |0.0              |\n",
      "|20240114    |1644910903|1644911334     |US        |266660396846321|19000101       |6.99         |USD             |4.90             |USD             |iPhone|NULL  |1.00 |6.99             |\n",
      "|20240114    |1597094402|1597465785     |DE        |245577751173806|19000101       |34.99        |EUR             |20.58            |EUR             |iPhone|NULL  |1.00 |39.98186818278581|\n",
      "|20240114    |1597094402|1597465785     |GB        |595601989101562|19000101       |31.99        |GBP             |18.55            |GBP             |iPhone|NULL  |1.00 |43.28996127585083|\n",
      "|20240114    |1644910903|1644911334     |US        |182610608791928|19000101       |0.00         |USD             |0.00             |USD             |iPhone|NULL  |1.00 |0.0              |\n",
      "|20240114    |1597094402|1597465785     |US        |455578190259642|19000101       |34.99        |USD             |24.50            |USD             |iPhone|NULL  |1.00 |34.99            |\n",
      "|20240113    |1644910903|6445357999     |US        |791447464417808|19000101       |5.99         |USD             |4.20             |USD             |iPhone|NULL  |1.00 |5.99             |\n",
      "+------------+----------+---------------+----------+---------------+---------------+-------------+----------------+-----------------+----------------+------+------+-----+-----------------+\n",
      "only showing top 20 rows\n",
      "\n"
     ]
    }
   ],
   "source": [
    "fact_subscription_sales.show(20, truncate=False)"
   ]
  },
  {
   "cell_type": "code",
   "execution_count": 44,
   "id": "e2fad9c0",
   "metadata": {},
   "outputs": [
    {
     "name": "stdout",
     "output_type": "stream",
     "text": [
      "Successfully wrote 250 rows to Dim_Date\n",
      "Successfully wrote 2 rows to Dim_App\n",
      "Successfully wrote 17 rows to Dim_Subscription\n",
      "Successfully wrote 250 rows to Dim_Country\n",
      "Successfully wrote 15417 rows to Dim_Subscriber\n",
      "Successfully wrote 19641 rows to Fact_SubscriptionSales\n"
     ]
    }
   ],
   "source": [
    "# Connection properties - DESKTOP-P25M6CJ\n",
    "jdbc_url = \"jdbc:sqlserver://DESKTOP-P25M6CJ:1433;databaseName=DW_AppleSubscriberReport;integratedSecurity=true;encrypt=true;trustServerCertificate=true\"\n",
    "connection_properties = {\n",
    "    \"driver\": \"com.microsoft.sqlserver.jdbc.SQLServerDriver\"\n",
    "}\n",
    "\n",
    "# Hàm để ghi DataFrame vào SQL Server\n",
    "def write_to_sql_server(df, table_name, mode=\"append\"):\n",
    "    try:\n",
    "        df.write.jdbc(\n",
    "            url=jdbc_url,\n",
    "            table=table_name,\n",
    "            mode=mode,\n",
    "            properties=connection_properties\n",
    "        )\n",
    "        print(f\"Successfully wrote {df.count()} rows to {table_name}\")\n",
    "    except Exception as e:\n",
    "        print(f\"Error writing to {table_name}: {str(e)}\")\n",
    "\n",
    "# Ghi các bảng dimension vào SQL Server trước\n",
    "write_to_sql_server(complete_dim_date, \"Dim_Date\")\n",
    "write_to_sql_server(dim_app, \"Dim_App\")\n",
    "write_to_sql_server(dim_subscription, \"Dim_Subscription\")\n",
    "write_to_sql_server(dim_country_complete, \"Dim_Country\")\n",
    "write_to_sql_server(dim_subscriber_complete, \"Dim_Subscriber\")\n",
    "\n",
    "# Ghi bảng fact vào SQL Server cuối cùng\n",
    "write_to_sql_server(fact_subscription_sales, \"Fact_SubscriptionSales\")"
   ]
  },
  {
   "cell_type": "code",
   "execution_count": 48,
   "id": "1ddef586",
   "metadata": {},
   "outputs": [
    {
     "data": {
      "text/plain": [
       "19641"
      ]
     },
     "execution_count": 48,
     "metadata": {},
     "output_type": "execute_result"
    }
   ],
   "source": [
    "df.select(\n",
    "    col(\"Event Date\").alias(\"EventDateKey\"),\n",
    "    col(\"Purchase Date\").alias(\"PurchaseDateKey\"),\n",
    "    col(\"App Apple ID\").alias(\"AppKey\"),\n",
    "    col(\"Subscription Apple ID\").alias(\"SubscriptionKey\"),\n",
    "    col(\"Subscriber ID\").alias(\"SubscriberKey\"),\n",
    "    col(\"Device\").alias(\"Device\")\n",
    ").distinct().count()"
   ]
  },
  {
   "cell_type": "code",
   "execution_count": 3,
   "id": "8d8f87ec",
   "metadata": {},
   "outputs": [],
   "source": [
    "spark.stop()"
   ]
  }
 ],
 "metadata": {
  "kernelspec": {
   "display_name": "base",
   "language": "python",
   "name": "python3"
  },
  "language_info": {
   "codemirror_mode": {
    "name": "ipython",
    "version": 3
   },
   "file_extension": ".py",
   "mimetype": "text/x-python",
   "name": "python",
   "nbconvert_exporter": "python",
   "pygments_lexer": "ipython3",
   "version": "3.11.7"
  }
 },
 "nbformat": 4,
 "nbformat_minor": 5
}
